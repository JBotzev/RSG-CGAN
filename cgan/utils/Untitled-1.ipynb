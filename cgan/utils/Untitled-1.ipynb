{
 "cells": [
  {
   "cell_type": "markdown",
   "metadata": {},
   "source": [
    "# Label transform for forecasting with previous 2 days"
   ]
  },
  {
   "cell_type": "code",
   "execution_count": 1,
   "metadata": {},
   "outputs": [],
   "source": [
    "import numpy as np"
   ]
  },
  {
   "cell_type": "code",
   "execution_count": 2,
   "metadata": {},
   "outputs": [
    {
     "name": "stdout",
     "output_type": "stream",
     "text": [
      "6405\n",
      "[6403, 6404, 6405]\n"
     ]
    }
   ],
   "source": [
    "\n",
    "idx = np.random.randint(0, 10000)\n",
    "print(idx)\n",
    "days = list(range(idx-2,idx+1))\n",
    "print(days)"
   ]
  },
  {
   "cell_type": "code",
   "execution_count": 5,
   "metadata": {},
   "outputs": [
    {
     "name": "stdout",
     "output_type": "stream",
     "text": [
      "[[ 1  2  3  4  5  6]\n",
      " [10 20 30 40 50 60]]\n"
     ]
    }
   ],
   "source": [
    "list_a = [[1,2,3],[10,20,30]]\n",
    "list_b = [[4,5,6,],[40,50,60]]\n",
    "merged = np.column_stack([list_a,list_b])\n",
    "print(merged)"
   ]
  },
  {
   "cell_type": "code",
   "execution_count": 6,
   "metadata": {},
   "outputs": [
    {
     "name": "stdout",
     "output_type": "stream",
     "text": [
      "[ 1  2  3  4  5  6 10 20 30 40 50 60]\n"
     ]
    }
   ],
   "source": [
    "noise = np.concatenate(merged)\n",
    "print(noise)"
   ]
  },
  {
   "cell_type": "code",
   "execution_count": 8,
   "metadata": {},
   "outputs": [
    {
     "name": "stdout",
     "output_type": "stream",
     "text": [
      "[1, 2, 3]\n"
     ]
    }
   ],
   "source": [
    "list = [1,2,3,4]\n",
    "print(list[:-1])"
   ]
  }
 ],
 "metadata": {
  "interpreter": {
   "hash": "6634a6ef393c667e54c22054a3771f7fbfd71045bcb04c31d5886c12c4a77a96"
  },
  "kernelspec": {
   "display_name": "Python 3.8.3 ('base')",
   "language": "python",
   "name": "python3"
  },
  "language_info": {
   "codemirror_mode": {
    "name": "ipython",
    "version": 3
   },
   "file_extension": ".py",
   "mimetype": "text/x-python",
   "name": "python",
   "nbconvert_exporter": "python",
   "pygments_lexer": "ipython3",
   "version": "3.8.3"
  },
  "orig_nbformat": 4
 },
 "nbformat": 4,
 "nbformat_minor": 2
}
