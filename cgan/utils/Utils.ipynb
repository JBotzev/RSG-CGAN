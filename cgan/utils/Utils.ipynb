{
 "cells": [
  {
   "cell_type": "markdown",
   "metadata": {},
   "source": [
    "# Label transform for forecasting with previous 2 days"
   ]
  },
  {
   "cell_type": "code",
   "execution_count": 17,
   "metadata": {},
   "outputs": [],
   "source": [
    "import numpy as np\n",
    "# import torch\n",
    "# from scipy.stats import multivariate_normal\n",
    "# from scipy.stats import dirichlet \n",
    "# from torch.distributions.multivariate_normal import MultivariateNormal\n",
    "# device = torch.device(\"cuda\" if torch.cuda.is_available() else \"cpu\")\n",
    "# from keras import backend as K \n",
    "import matplotlib.pyplot as plt\n",
    "from sklearn.model_selection import train_test_split\n",
    "from skimage.metrics import mean_squared_error\n",
    "from scipy import stats"
   ]
  },
  {
   "cell_type": "code",
   "execution_count": 23,
   "metadata": {},
   "outputs": [
    {
     "name": "stdout",
     "output_type": "stream",
     "text": [
      "0.2916666666666667   0.26283384201555077\n"
     ]
    }
   ],
   "source": [
    "gen = [[0\t,0,\t0,\t0,\t0\t,0\t,0,\t0,\t0.0049\t,0.0478,\t0.1707,\t0.21\t,0.1308,\t0.0563,\t0,\t0,\t0,\t0\t,0,\t0,0\t,0,\t0\t,0],\n",
    "[0\t,0,\t0,\t0,\t0\t,0\t,0,\t0,\t0.0049\t,0.0478,\t0.1707,\t0.21\t,0.1308,\t0.0563,\t0,\t0,\t0,\t0\t,0,\t0,0\t,0,\t0\t,0]\n",
    "]\n",
    "real = [0\t,0,\t0\t,0,\t0\t,0\t,0,\t0,\t0.0225\t,0.1016,\t0.2879\t,0.3642,\t0.4274,\t0.351\t,0,\t0\t,0,\t0\t,0,\t0\t,0,\t0,\t0\t,0\n",
    "]\n",
    "\n",
    "(ks_stat, ks_pval) = stats.ks_2samp(real, gen)\n",
    "print(ks_stat, ' ', ks_pval)"
   ]
  },
  {
   "cell_type": "code",
   "execution_count": 32,
   "metadata": {},
   "outputs": [
    {
     "name": "stdout",
     "output_type": "stream",
     "text": [
      "[0.011722932778108255, 0.011722932778108281, 0.0, 1.92833735681772e-32]\n",
      "0.005861466389054134\n"
     ]
    }
   ],
   "source": [
    "import statsmodels.api as sm\n",
    "gen_imgs_sq = [[1,2,3,1,1,1,1,1,1,1],[2,2,1,1,1,1,1,1,1,1]]\n",
    "imgs_sq = [[3,3,1,1,1,1,1,1,1,1],[4,4,1,1,1,1,1,1,1,1]]\n",
    "corrs = []\n",
    "for gen_img in gen_imgs_sq:\n",
    "    for real_img in imgs_sq:\n",
    "        gen_corr = sm.tsa.acf(gen_img)\n",
    "        real_corr = sm.tsa.acf(real_img)\n",
    "        corrs.append(mean_squared_error(gen_corr, real_corr))\n",
    "a = np.mean(corrs)\n",
    "print(corrs)\n",
    "print(a)\n",
    "\n",
    "[0.4955831  0.49088958 0.5124725  0.50078386 0.49756834 0.5051342\n",
    " 0.5038564  0.50115025 0.49012822 0.49945432 0.500207   0.5001988\n",
    " 0.49184752 0.5070869  0.50023097 0.5037333  0.49559054 0.4935707\n",
    " 0.49890006 0.5042782  0.5044072  0.49653745 0.50015336 0.50216925]\n",
    "  [0.2746 0.2289 0.2393 0.2332 0.216  0.2009 0.1797 0.1741 0.1729 0.1556\n",
    " 0.1385 0.1088 0.0999 0.0953 0.095  0.1188 0.1509 0.1591 0.1411 0.1283\n",
    " 0.0999 0.0593 0.051  0.0432]\n",
    "\n",
    " [ 1.         -0.15258021 -0.27875273 -0.10201241  0.19853638 -0.08490877\n",
    " -0.26090668  0.01853496  0.16363992  0.13066204 -0.126149    0.06066327\n",
    " -0.1318005   0.11786233 -0.09272745 -0.12281306  0.06604538  0.17512085\n",
    "  0.04694266 -0.16337638  0.02504567  0.0624289  -0.03420572 -0.01524946]\n",
    "  [ 1.          0.79579346  0.61572881  0.40209748  0.23102814  0.12785589\n",
    "  0.07321062  0.0804381   0.08207199  0.02913015 -0.04635754 -0.122613\n",
    " -0.16177378 -0.1885261  -0.18447925 -0.16740763 -0.16679619 -0.21937023\n",
    " -0.29760617 -0.33443697 -0.34730693 -0.32021161 -0.23205067 -0.14841858]"
   ]
  },
  {
   "cell_type": "code",
   "execution_count": 14,
   "metadata": {},
   "outputs": [
    {
     "data": {
      "image/png": "[encoded data removed]",
      "text/plain": [
       "<Figure size 432x288 with 1 Axes>"
      ]
     },
     "metadata": {
      "needs_background": "light"
     },
     "output_type": "display_data"
    }
   ],
   "source": [
    "condition = [1,2,3,4]\n",
    "gen = [10, 20, 30, 40]\n",
    "real = [15, 25,35,45]\n",
    "\n",
    "team = ['Team 1','Team 2','Team 3','Team 4','Team 5']\n",
    "female = [5, 10, 15, 20, 25]\n",
    "male = [15, 20, 30, 16, 13]\n",
    "\n",
    "x_axis = np.arange(len(condition))\n",
    "\n",
    "# Multi bar Chart\n",
    "\n",
    "plt.bar(x_axis -0.2, gen, width=0.4, label = 'Generated')\n",
    "plt.bar(x_axis +0.2, real, width=0.4, label = 'Real')\n",
    "\n",
    "# Xticks\n",
    "\n",
    "plt.xticks(x_axis, condition)\n",
    "plt.xlabel('Condition')\n",
    "plt.ylabel('Generated Power (MW)')\n",
    "# Add legend\n",
    "\n",
    "plt.legend()\n",
    "\n",
    "# Display\n",
    "\n",
    "plt.show()"
   ]
  },
  {
   "cell_type": "code",
   "execution_count": 18,
   "metadata": {},
   "outputs": [
    {
     "data": {
      "text/plain": [
       "[<matplotlib.lines.Line2D at 0x2531c2806d0>]"
      ]
     },
     "execution_count": 18,
     "metadata": {},
     "output_type": "execute_result"
    },
    {
     "data": {
      "image/png": "[encoded data removed]",
      "text/plain": [
       "<Figure size 432x288 with 1 Axes>"
      ]
     },
     "metadata": {
      "needs_background": "light"
     },
     "output_type": "display_data"
    }
   ],
   "source": [
    "import statsmodels.api as sm\n",
    "x = [0.1,0.6,0.4,0.5]\n",
    "y = [10,60,40,50]\n",
    "z = np.corrcoef(x)\n",
    "z1 = np.corrcoef(y)\n",
    "\n",
    "plt.plot(z)\n",
    "plt.plot(z1)\n",
    "\n"
   ]
  },
  {
   "cell_type": "code",
   "execution_count": 27,
   "metadata": {},
   "outputs": [
    {
     "name": "stdout",
     "output_type": "stream",
     "text": [
      "[356.6666666666667]\n",
      "[  1   1   2 233   3  13]\n",
      "356.6666666666667\n"
     ]
    }
   ],
   "source": [
    "def mean_metrics(gen_batch, real_batch):\n",
    "    mse = []\n",
    "    gen_batch = gen_batch.reshape(gen_batch.shape[0], 2)\n",
    "    real_batch = real_batch.reshape(real_batch.shape[0], 2)\n",
    "\n",
    "    for i in range(len(gen_batch)):\n",
    "        gen_img = gen_batch[i]\n",
    "        real_img = real_batch[i]\n",
    "        # print('img ',gen_img.shape, gen_img)\n",
    "        # print('img r ', real_img.shape, real_img)\n",
    "        mse.append(mean_squared_error(real_img, gen_img))\n",
    "\n",
    "        #ssim.append(ssim(real_img, gen_img, data_range=gen_img.max() - gen_img.min()))\n",
    "\n",
    "    return [np.mean(mse)]\n",
    "\n",
    "A = np.array([[1,1],[2,233],[3,13]])\n",
    "B = np.array([[10,10],[20,212],[30,35]])\n",
    "\n",
    "print(mean_metrics(A,B))\n",
    "A = A.flatten()\n",
    "B = B.flatten()\n",
    "print(A)\n",
    "print(mean_squared_error(A,B))"
   ]
  },
  {
   "cell_type": "code",
   "execution_count": 27,
   "metadata": {},
   "outputs": [
    {
     "name": "stdout",
     "output_type": "stream",
     "text": [
      "[[0 3]\n",
      " [0 1]\n",
      " [2 2]\n",
      " [2 2]\n",
      " [0 1]\n",
      " [0 3]\n",
      " [3 2]\n",
      " [0 1]\n",
      " [2 1]\n",
      " [3 3]\n",
      " [3 0]\n",
      " [1 2]\n",
      " [3 0]\n",
      " [0 2]\n",
      " [2 1]\n",
      " [1 1]\n",
      " [3 0]\n",
      " [0 0]\n",
      " [0 3]\n",
      " [1 1]\n",
      " [1 2]\n",
      " [1 0]\n",
      " [1 2]\n",
      " [2 1]\n",
      " [0 3]\n",
      " [1 1]\n",
      " [1 0]\n",
      " [3 0]\n",
      " [2 1]\n",
      " [3 1]\n",
      " [2 1]\n",
      " [1 1]\n",
      " [0 0]\n",
      " [2 1]\n",
      " [0 2]\n",
      " [0 1]\n",
      " [0 0]\n",
      " [0 3]\n",
      " [0 3]\n",
      " [0 1]\n",
      " [3 2]\n",
      " [3 1]\n",
      " [3 0]\n",
      " [0 0]\n",
      " [0 3]\n",
      " [3 1]\n",
      " [1 2]\n",
      " [1 1]\n",
      " [2 0]\n",
      " [3 0]\n",
      " [3 2]\n",
      " [2 1]\n",
      " [2 1]\n",
      " [2 2]\n",
      " [0 3]\n",
      " [2 3]\n",
      " [1 2]\n",
      " [1 3]\n",
      " [1 2]\n",
      " [3 3]\n",
      " [1 2]\n",
      " [3 0]\n",
      " [1 2]\n",
      " [2 3]]\n"
     ]
    }
   ],
   "source": [
    "sampled_labels = []\n",
    "batch_size = 64\n",
    "training_days = 2\n",
    "for i in range(training_days):\n",
    "    sampled_labels.append(np.random.randint(0, 4, batch_size))\n",
    "sampled_labels = np.array(sampled_labels).reshape(batch_size, training_days)\n",
    "\n",
    "print(sampled_labels)"
   ]
  },
  {
   "cell_type": "code",
   "execution_count": 24,
   "metadata": {},
   "outputs": [
    {
     "name": "stdout",
     "output_type": "stream",
     "text": [
      "1\n",
      "0\n",
      "[5, 6]\n",
      "[[ 1  2]\n",
      " [ 3  4]\n",
      " [ 5  6]\n",
      " [ 7  8]\n",
      " [ 9 10]]\n"
     ]
    }
   ],
   "source": [
    "y_train = [1,2,3,4,5,6,7,8,9,10]\n",
    "idx = 5\n",
    "label_list = []\n",
    "for i in reversed(range(2)):\n",
    "    print(i)\n",
    "    label_list.append(y_train[idx-i])\n",
    "\n",
    "print(label_list)\n",
    "\n",
    "multi_labels = np.array(y_train).reshape(5, 2)\n",
    "print(multi_labels)"
   ]
  },
  {
   "cell_type": "code",
   "execution_count": 17,
   "metadata": {},
   "outputs": [
    {
     "data": {
      "text/plain": [
       "[<matplotlib.lines.Line2D at 0x1ddb297ebb0>]"
      ]
     },
     "execution_count": 17,
     "metadata": {},
     "output_type": "execute_result"
    },
    {
     "data": {
      "image/png": "[encoded data removed]",
      "text/plain": [
       "<Figure size 432x288 with 1 Axes>"
      ]
     },
     "metadata": {
      "needs_background": "light"
     },
     "output_type": "display_data"
    }
   ],
   "source": [
    "x = np.linspace(0,2*np.pi,100)\n",
    "y = np.sin(x) + np.random.random(100) * 0.8\n",
    "\n",
    "def smooth(y, box_pts):\n",
    "    box = np.ones(box_pts)\n",
    "    y_smooth = np.convolve(y, box, mode='same')/box_pts\n",
    "    return y_smooth\n",
    "\n",
    "plt.plot(x, y,'o')\n",
    "plt.plot(x, smooth(y,3), 'r-', lw=2)\n",
    "plt.plot(x, smooth(y,50), 'g-', lw=2)"
   ]
  },
  {
   "cell_type": "code",
   "execution_count": 17,
   "metadata": {},
   "outputs": [
    {
     "name": "stdout",
     "output_type": "stream",
     "text": [
      "7\n",
      "4.25\n"
     ]
    }
   ],
   "source": [
    "a = [1,1,1,1,5,5,5,5,5,5,4,4,4,4]\n",
    "print(int(len(a)/2))\n",
    "print(np.mean(a[-5:-1]))\n",
    "\n",
    "a = np.asarray([[2,1.123123],[2,1.123123],[2,1.123123]])\n",
    "np.savetxt('Metrics.csv', a, delimiter=\",\",fmt='%1.5f')"
   ]
  },
  {
   "cell_type": "code",
   "execution_count": 14,
   "metadata": {},
   "outputs": [
    {
     "name": "stdout",
     "output_type": "stream",
     "text": [
      "[[14. 44.]\n",
      " [14. 44.]\n",
      " [27. 79.]\n",
      " [27. 79.]\n",
      " [27. 79.]]\n"
     ]
    }
   ],
   "source": [
    "def align_by_dist1(A, B):\n",
    "    for i in range(len(A)):\n",
    "        D = [] # This list will contain the index where the euclidean distance is lower than the threshold\n",
    "        for j in range(len(B)):\n",
    "            dist = np.linalg.norm(A[i] - B[j]) # Compute the euclidean distance between a target at index j and a prediction at index I\n",
    "            if dist <= 4: # Select a treshold for the euclidean distance\n",
    "                D.append(np.array([dist,j,i])) # Append the euclidean distance and the index of the target and prediction vector\n",
    "        if D: # If we find an euclidean distance lower than the threshold we can now sort for the index i the list of prediction\n",
    "            D_sorted = sorted(D,key=lambda elem:elem[0]) # We sort the array of distance lower than the threshold to get the minimum distance for the index I \n",
    "            value = D_sorted[0]\n",
    "            B[value[2].astype(np.int64)], B[value[1].astype(np.int64)] = B[value[1].astype(np.int64)], B[value[2].astype(np.int64)] # We updated the target list position \n",
    "            A[value[2].astype(np.int64)] = [1000000,1000000] # We set the value of the predictions very high to not have duplicates when sorting the targets coordinates \n",
    "    return B\n",
    "\n",
    "A = np.array([[14.0,44],[16,47],[27,79],[27,79],[27,79]])\n",
    "B = np.array([[14.0,44],[16,0],[18,89],[27,79],[45,127]])\n",
    "\n",
    "print(align_by_dist1(A,B))"
   ]
  },
  {
   "cell_type": "markdown",
   "metadata": {},
   "source": [
    "Euclidean distance"
   ]
  },
  {
   "cell_type": "code",
   "execution_count": 3,
   "metadata": {},
   "outputs": [
    {
     "name": "stdout",
     "output_type": "stream",
     "text": [
      "[array([27., 79.]), array([27., 79.])]\n"
     ]
    }
   ],
   "source": [
    "def align_by_euclidean2(A,B):\n",
    "    dist = 10000\n",
    "    array1 = np.array([])\n",
    "    array2 = np.array([])\n",
    "    for arrayA in A:\n",
    "        for arrayB in B:\n",
    "            temp_d = np.linalg.norm(arrayA - arrayB)\n",
    "            if temp_d < dist:\n",
    "                dist = temp_d\n",
    "                array1 = arrayA\n",
    "                array2 = arrayB\n",
    "    return [array1,array2]\n",
    "\n",
    "A = np.array([[14.0,44],[16,47],[27,79]])\n",
    "B = np.array([[14.0,46],[16,46],[18,89],[27,79],[45,127]])\n",
    "print(align_by_euclidean2(A,B))"
   ]
  },
  {
   "cell_type": "code",
   "execution_count": 16,
   "metadata": {},
   "outputs": [
    {
     "name": "stdout",
     "output_type": "stream",
     "text": [
      "[[14. 44.]\n",
      " [14. 44.]\n",
      " [27. 78.]\n",
      " [27. 78.]\n",
      " [27. 78.]]\n"
     ]
    }
   ],
   "source": [
    "def align_by_dist_2(A, B):\n",
    "    A = np.asarray(A, np.float64)\n",
    "    B = np.asarray(B, np.float64)\n",
    "    \n",
    "    dist_sqr = (A[:, 0, None] - B[:, 0, None].T)**2 + (A[:, 1, None] - B[:, 1, None].T)**2\n",
    "    min_dist_pt = np.argmin(dist_sqr, axis=1)\n",
    "    \n",
    "    reordered_B = B[min_dist_pt, :]\n",
    "    \n",
    "    num_pts = B.shape[0]\n",
    "    remaining_indices = list(set(range(num_pts)) - set(min_dist_pt))\n",
    "    remaining_B = B[remaining_indices, :]\n",
    "    \n",
    "    return np.vstack((reordered_B))\n",
    "\n",
    "A = np.array([[14.0,44],[16,47],[27,79],[27,79],[27,79]])\n",
    "B = np.array([[14.0,44],[16,0],[18,89],[27,78],[45,127]])\n",
    "\n",
    "print(align_by_dist_2(A,B))"
   ]
  },
  {
   "cell_type": "code",
   "execution_count": null,
   "metadata": {},
   "outputs": [],
   "source": []
  },
  {
   "cell_type": "markdown",
   "metadata": {},
   "source": [
    "Autocorrelation"
   ]
  },
  {
   "cell_type": "code",
   "execution_count": 95,
   "metadata": {},
   "outputs": [
    {
     "name": "stdout",
     "output_type": "stream",
     "text": [
      "[1. 1. 1. 1. 1.]\n"
     ]
    }
   ],
   "source": [
    "\n",
    "def acf(x, length=6):\n",
    "    return np.array([1]+[np.corrcoef(x[:-i], x[i:])[0,1]  \\\n",
    "        for i in range(1, length-1)])\n",
    "\n",
    "print(acf([1,2,3,4,5,6]))"
   ]
  },
  {
   "cell_type": "code",
   "execution_count": 113,
   "metadata": {},
   "outputs": [
    {
     "name": "stdout",
     "output_type": "stream",
     "text": [
      "The Autocorrelation plot for the data is:\n"
     ]
    },
    {
     "data": {
      "image/png": "[encoded data removed]",
      "text/plain": [
       "<Figure size 432x288 with 1 Axes>"
      ]
     },
     "metadata": {
      "needs_background": "light"
     },
     "output_type": "display_data"
    }
   ],
   "source": [
    "np.random.seed(42)\n",
    "   \n",
    "# Creating some random data.\n",
    "data = np.random.randn(15)\n",
    "   \n",
    "# Adding plot title.\n",
    "plt.title(\"Autocorrelation Plot\")\n",
    " \n",
    "# Providing x-axis name.\n",
    "plt.xlabel(\"Lags\")\n",
    " \n",
    "# Plotting the Autocorrelation plot.\n",
    "plt.acorr(data, maxlags = 10)\n",
    " \n",
    "# Displaying the plot.\n",
    "print(\"The Autocorrelation plot for the data is:\")\n",
    "plt.grid(True)\n",
    " \n",
    "plt.show()"
   ]
  },
  {
   "cell_type": "code",
   "execution_count": 64,
   "metadata": {},
   "outputs": [
    {
     "ename": "AttributeError",
     "evalue": "'tensorflow.python.framework.ops.EagerTensor' object has no attribute 'mean'",
     "output_type": "error",
     "traceback": [
      "\u001b[1;31m---------------------------------------------------------------------------\u001b[0m",
      "\u001b[1;31mAttributeError\u001b[0m                            Traceback (most recent call last)",
      "\u001b[1;32md:\\Documents\\Bachelor\\Maastricht\\Third Year\\Thesis\\RSG CGAN\\cgan\\utils\\Utils.ipynb Cell 3'\u001b[0m in \u001b[0;36m<cell line: 19>\u001b[1;34m()\u001b[0m\n\u001b[0;32m     <a href='vscode-notebook-cell:/d%3A/Documents/Bachelor/Maastricht/Third%20Year/Thesis/RSG%20CGAN/cgan/utils/Utils.ipynb#ch0000012?line=16'>17</a>\u001b[0m tensor1 \u001b[39m=\u001b[39m tf\u001b[39m.\u001b[39mconvert_to_tensor(array1)\n\u001b[0;32m     <a href='vscode-notebook-cell:/d%3A/Documents/Bachelor/Maastricht/Third%20Year/Thesis/RSG%20CGAN/cgan/utils/Utils.ipynb#ch0000012?line=17'>18</a>\u001b[0m tensor2 \u001b[39m=\u001b[39m tf\u001b[39m.\u001b[39mconvert_to_tensor(array2)\n\u001b[1;32m---> <a href='vscode-notebook-cell:/d%3A/Documents/Bachelor/Maastricht/Third%20Year/Thesis/RSG%20CGAN/cgan/utils/Utils.ipynb#ch0000012?line=18'>19</a>\u001b[0m \u001b[39mprint\u001b[39m(fid(tensor1,tensor1))\n",
      "\u001b[1;32md:\\Documents\\Bachelor\\Maastricht\\Third Year\\Thesis\\RSG CGAN\\cgan\\utils\\Utils.ipynb Cell 3'\u001b[0m in \u001b[0;36mfid\u001b[1;34m(X, Y)\u001b[0m\n\u001b[0;32m      <a href='vscode-notebook-cell:/d%3A/Documents/Bachelor/Maastricht/Third%20Year/Thesis/RSG%20CGAN/cgan/utils/Utils.ipynb#ch0000012?line=0'>1</a>\u001b[0m \u001b[39mdef\u001b[39;00m \u001b[39mfid\u001b[39m(X, Y):\n\u001b[1;32m----> <a href='vscode-notebook-cell:/d%3A/Documents/Bachelor/Maastricht/Third%20Year/Thesis/RSG%20CGAN/cgan/utils/Utils.ipynb#ch0000012?line=1'>2</a>\u001b[0m     m \u001b[39m=\u001b[39m X\u001b[39m.\u001b[39;49mmean(\u001b[39m0\u001b[39m)\n\u001b[0;32m      <a href='vscode-notebook-cell:/d%3A/Documents/Bachelor/Maastricht/Third%20Year/Thesis/RSG%20CGAN/cgan/utils/Utils.ipynb#ch0000012?line=2'>3</a>\u001b[0m     m_w \u001b[39m=\u001b[39m Y\u001b[39m.\u001b[39mmean(\u001b[39m0\u001b[39m)\n\u001b[0;32m      <a href='vscode-notebook-cell:/d%3A/Documents/Bachelor/Maastricht/Third%20Year/Thesis/RSG%20CGAN/cgan/utils/Utils.ipynb#ch0000012?line=3'>4</a>\u001b[0m     X_np \u001b[39m=\u001b[39m X\u001b[39m.\u001b[39mnumpy()\n",
      "\u001b[1;31mAttributeError\u001b[0m: 'tensorflow.python.framework.ops.EagerTensor' object has no attribute 'mean'"
     ]
    }
   ],
   "source": [
    "def fid(X, Y):\n",
    "    m = X.mean(0)\n",
    "    m_w = Y.mean(0)\n",
    "    X_np = X.numpy()\n",
    "    Y_np = Y.numpy()\n",
    "\n",
    "    C = np.cov(X_np.transpose())\n",
    "    C_w = np.cov(Y_np.transpose())\n",
    "    C_C_w_sqrt = linalg.sqrtm(C.dot(C_w), True).real\n",
    "\n",
    "    score = m.dot(m) + m_w.dot(m_w) - 2 * m_w.dot(m) + \\\n",
    "        np.trace(C + C_w - 2 * C_C_w_sqrt)\n",
    "    return np.sqrt(score)\n",
    "\n",
    "array1 = [[2],[1]]\n",
    "array2 = [[2],[2]]\n",
    "tensor1 = tf.convert_to_tensor(array1)\n",
    "tensor2 = tf.convert_to_tensor(array2)\n",
    "print(fid(tensor1,tensor1))"
   ]
  },
  {
   "cell_type": "code",
   "execution_count": 59,
   "metadata": {},
   "outputs": [
    {
     "name": "stdout",
     "output_type": "stream",
     "text": [
      "-0.0\n",
      "0.05268025782891318\n",
      "0.11157177565710491\n"
     ]
    }
   ],
   "source": [
    "import math\n",
    "def bhattacharyya(a, b):\n",
    "    \"\"\" Bhattacharyya distance between distributions (lists of floats). \"\"\"\n",
    "    if not len(a) == len(b):\n",
    "        raise ValueError(\"a and b must be of the same size\")\n",
    "    return -math.log(sum((math.sqrt(u * w) for u, w in zip(a, b))))\n",
    "\n",
    "\n",
    "x = bhattacharyya([0.1, 0.9], [0.1, 0.9])\n",
    "print(x)\n",
    "\n",
    "x = bhattacharyya([0.2, 0.8], [0.5, 0.5])\n",
    "print(x)\n",
    "\n",
    "x = bhattacharyya([0.1, 0.9], [0.5, 0.5])\n",
    "print(x)"
   ]
  },
  {
   "cell_type": "markdown",
   "metadata": {},
   "source": [
    "MMD"
   ]
  },
  {
   "cell_type": "code",
   "execution_count": 2,
   "metadata": {},
   "outputs": [
    {
     "ename": "NameError",
     "evalue": "name '_C' is not defined",
     "output_type": "error",
     "traceback": [
      "\u001b[1;31m---------------------------------------------------------------------------\u001b[0m",
      "\u001b[1;31mNameError\u001b[0m                                 Traceback (most recent call last)",
      "\u001b[1;32md:\\Documents\\Bachelor\\Maastricht\\Third Year\\Thesis\\RSG CGAN\\cgan\\utils\\Utils.ipynb Cell 11'\u001b[0m in \u001b[0;36m<cell line: 1>\u001b[1;34m()\u001b[0m\n\u001b[1;32m----> <a href='vscode-notebook-cell:/d%3A/Documents/Bachelor/Maastricht/Third%20Year/Thesis/RSG%20CGAN/cgan/utils/Utils.ipynb#ch0000006?line=0'>1</a>\u001b[0m \u001b[39mimport\u001b[39;00m \u001b[39mtorch\u001b[39;00m\n\u001b[0;32m      <a href='vscode-notebook-cell:/d%3A/Documents/Bachelor/Maastricht/Third%20Year/Thesis/RSG%20CGAN/cgan/utils/Utils.ipynb#ch0000006?line=1'>2</a>\u001b[0m device \u001b[39m=\u001b[39m torch\u001b[39m.\u001b[39mdevice(\u001b[39m\"\u001b[39m\u001b[39mcuda\u001b[39m\u001b[39m\"\u001b[39m \u001b[39mif\u001b[39;00m torch\u001b[39m.\u001b[39mcuda\u001b[39m.\u001b[39mis_available() \u001b[39melse\u001b[39;00m \u001b[39m\"\u001b[39m\u001b[39mcpu\u001b[39m\u001b[39m\"\u001b[39m)\n\u001b[0;32m      <a href='vscode-notebook-cell:/d%3A/Documents/Bachelor/Maastricht/Third%20Year/Thesis/RSG%20CGAN/cgan/utils/Utils.ipynb#ch0000006?line=3'>4</a>\u001b[0m \u001b[39mdef\u001b[39;00m \u001b[39mMMD\u001b[39m(x, y, kernel):\n",
      "File \u001b[1;32mc:\\Users\\Joan\\anaconda3\\lib\\site-packages\\torch\\__init__.py:231\u001b[0m, in \u001b[0;36m<module>\u001b[1;34m\u001b[0m\n\u001b[0;32m    <a href='file:///c%3A/Users/Joan/anaconda3/lib/site-packages/torch/__init__.py?line=215'>216</a>\u001b[0m         \u001b[39mraise\u001b[39;00m \u001b[39mImportError\u001b[39;00m(textwrap\u001b[39m.\u001b[39mdedent(\u001b[39m'''\u001b[39m\n\u001b[0;32m    <a href='file:///c%3A/Users/Joan/anaconda3/lib/site-packages/torch/__init__.py?line=216'>217</a>\u001b[0m \u001b[39m            Failed to load PyTorch C extensions:\u001b[39m\n\u001b[0;32m    <a href='file:///c%3A/Users/Joan/anaconda3/lib/site-packages/torch/__init__.py?line=217'>218</a>\u001b[0m \u001b[39m                It appears that PyTorch has loaded the `torch/_C` folder\u001b[39m\n\u001b[1;32m   (...)\u001b[0m\n\u001b[0;32m    <a href='file:///c%3A/Users/Joan/anaconda3/lib/site-packages/torch/__init__.py?line=225'>226</a>\u001b[0m \u001b[39m                or by running Python from a different directory.\u001b[39m\n\u001b[0;32m    <a href='file:///c%3A/Users/Joan/anaconda3/lib/site-packages/torch/__init__.py?line=226'>227</a>\u001b[0m \u001b[39m            \u001b[39m\u001b[39m'''\u001b[39m)\u001b[39m.\u001b[39mstrip()) \u001b[39mfrom\u001b[39;00m \u001b[39mNone\u001b[39m\n\u001b[0;32m    <a href='file:///c%3A/Users/Joan/anaconda3/lib/site-packages/torch/__init__.py?line=227'>228</a>\u001b[0m     \u001b[39mraise\u001b[39;00m  \u001b[39m# If __file__ is not None the cause is unknown, so just re-raise.\u001b[39;00m\n\u001b[1;32m--> <a href='file:///c%3A/Users/Joan/anaconda3/lib/site-packages/torch/__init__.py?line=230'>231</a>\u001b[0m __all__ \u001b[39m+\u001b[39m\u001b[39m=\u001b[39m [name \u001b[39mfor\u001b[39;00m name \u001b[39min\u001b[39;00m \u001b[39mdir\u001b[39m(_C)\n\u001b[0;32m    <a href='file:///c%3A/Users/Joan/anaconda3/lib/site-packages/torch/__init__.py?line=231'>232</a>\u001b[0m             \u001b[39mif\u001b[39;00m name[\u001b[39m0\u001b[39m] \u001b[39m!=\u001b[39m \u001b[39m'\u001b[39m\u001b[39m_\u001b[39m\u001b[39m'\u001b[39m \u001b[39mand\u001b[39;00m\n\u001b[0;32m    <a href='file:///c%3A/Users/Joan/anaconda3/lib/site-packages/torch/__init__.py?line=232'>233</a>\u001b[0m             \u001b[39mnot\u001b[39;00m name\u001b[39m.\u001b[39mendswith(\u001b[39m'\u001b[39m\u001b[39mBase\u001b[39m\u001b[39m'\u001b[39m)]\n\u001b[0;32m    <a href='file:///c%3A/Users/Joan/anaconda3/lib/site-packages/torch/__init__.py?line=234'>235</a>\u001b[0m \u001b[39mif\u001b[39;00m \u001b[39mnot\u001b[39;00m TYPE_CHECKING:\n\u001b[0;32m    <a href='file:///c%3A/Users/Joan/anaconda3/lib/site-packages/torch/__init__.py?line=235'>236</a>\u001b[0m     \u001b[39m# issue 38137 and python issue 43367. Submodules of a C extension are\u001b[39;00m\n\u001b[0;32m    <a href='file:///c%3A/Users/Joan/anaconda3/lib/site-packages/torch/__init__.py?line=236'>237</a>\u001b[0m     \u001b[39m# non-standard, and attributes of those submodules cannot be pickled since\u001b[39;00m\n\u001b[0;32m    <a href='file:///c%3A/Users/Joan/anaconda3/lib/site-packages/torch/__init__.py?line=237'>238</a>\u001b[0m     \u001b[39m# pickle expect to be able to import them as \"from _C.sub import attr\"\u001b[39;00m\n\u001b[0;32m    <a href='file:///c%3A/Users/Joan/anaconda3/lib/site-packages/torch/__init__.py?line=238'>239</a>\u001b[0m     \u001b[39m# which fails with \"_C is not a package\u001b[39;00m\n\u001b[0;32m    <a href='file:///c%3A/Users/Joan/anaconda3/lib/site-packages/torch/__init__.py?line=239'>240</a>\u001b[0m     \u001b[39mfor\u001b[39;00m attr \u001b[39min\u001b[39;00m \u001b[39mdir\u001b[39m(_C):\n",
      "\u001b[1;31mNameError\u001b[0m: name '_C' is not defined"
     ]
    }
   ],
   "source": [
    "import torch\n",
    "device = torch.device(\"cuda\" if torch.cuda.is_available() else \"cpu\")\n",
    "\n",
    "def MMD(x, y, kernel):\n",
    "    \"\"\"Emprical maximum mean discrepancy. The lower the result\n",
    "       the more evidence that distributions are the same.\n",
    "\n",
    "    Args:\n",
    "        x: first sample, distribution P\n",
    "        y: second sample, distribution Q\n",
    "        kernel: kernel type such as \"multiscale\" or \"rbf\"\n",
    "    \"\"\"\n",
    "    xx, yy, zz = torch.mm(x, x.t()), torch.mm(y, y.t()), torch.mm(x, y.t())\n",
    "    rx = (xx.diag().unsqueeze(0).expand_as(xx))\n",
    "    ry = (yy.diag().unsqueeze(0).expand_as(yy))\n",
    "    \n",
    "    dxx = rx.t() + rx - 2. * xx # Used for A in (1)\n",
    "    dyy = ry.t() + ry - 2. * yy # Used for B in (1)\n",
    "    dxy = rx.t() + ry - 2. * zz # Used for C in (1)\n",
    "    \n",
    "    XX, YY, XY = (torch.zeros(xx.shape).to(device),\n",
    "                  torch.zeros(xx.shape).to(device),\n",
    "                  torch.zeros(xx.shape).to(device))\n",
    "    \n",
    "    if kernel == \"multiscale\":\n",
    "        \n",
    "        bandwidth_range = [0.2, 0.5, 0.9, 1.3]\n",
    "        for a in bandwidth_range:\n",
    "            XX += a**2 * (a**2 + dxx)**-1\n",
    "            YY += a**2 * (a**2 + dyy)**-1\n",
    "            XY += a**2 * (a**2 + dxy)**-1\n",
    "            \n",
    "    if kernel == \"rbf\":\n",
    "      \n",
    "        bandwidth_range = [10, 15, 20, 50]\n",
    "        for a in bandwidth_range:\n",
    "            XX += torch.exp(-0.5*dxx/a)\n",
    "            YY += torch.exp(-0.5*dyy/a)\n",
    "            XY += torch.exp(-0.5*dxy/a)\n",
    "      \n",
    "      \n",
    "\n",
    "    return torch.mean(XX + YY - 2. * XY)\n",
    "\n",
    "array1 = [[2],[1]]\n",
    "array2 = [[2],[2]]\n",
    "tensor1 = tf.convert_to_tensor(array1)\n",
    "tensor2 = tf.convert_to_tensor(array2)\n",
    "print(MMD(tensor1,tensor2,0.1))"
   ]
  },
  {
   "cell_type": "code",
   "execution_count": 32,
   "metadata": {},
   "outputs": [
    {
     "ename": "TypeError",
     "evalue": "Cannot convert -0.1 to EagerTensor of dtype int32",
     "output_type": "error",
     "traceback": [
      "\u001b[1;31m---------------------------------------------------------------------------\u001b[0m",
      "\u001b[1;31mTypeError\u001b[0m                                 Traceback (most recent call last)",
      "\u001b[1;32md:\\Documents\\Bachelor\\Maastricht\\Third Year\\Thesis\\RSG CGAN\\cgan\\utils\\Utils.ipynb Cell 4'\u001b[0m in \u001b[0;36m<cell line: 24>\u001b[1;34m()\u001b[0m\n\u001b[0;32m     <a href='vscode-notebook-cell:/d%3A/Documents/Bachelor/Maastricht/Third%20Year/Thesis/RSG%20CGAN/cgan/utils/Utils.ipynb#ch0000008?line=20'>21</a>\u001b[0m     diff \u001b[39m=\u001b[39m tf\u001b[39m.\u001b[39mreduce_mean(x1x1) \u001b[39m-\u001b[39m \u001b[39m2\u001b[39m \u001b[39m*\u001b[39m tf\u001b[39m.\u001b[39mreduce_mean(x1x2) \u001b[39m+\u001b[39m tf\u001b[39m.\u001b[39mreduce_mean(x2x2)\n\u001b[0;32m     <a href='vscode-notebook-cell:/d%3A/Documents/Bachelor/Maastricht/Third%20Year/Thesis/RSG%20CGAN/cgan/utils/Utils.ipynb#ch0000008?line=21'>22</a>\u001b[0m     \u001b[39mreturn\u001b[39;00m diff\n\u001b[1;32m---> <a href='vscode-notebook-cell:/d%3A/Documents/Bachelor/Maastricht/Third%20Year/Thesis/RSG%20CGAN/cgan/utils/Utils.ipynb#ch0000008?line=23'>24</a>\u001b[0m \u001b[39mprint\u001b[39m(MMD([[\u001b[39m1\u001b[39;49m],[\u001b[39m1\u001b[39;49m]],[[\u001b[39m2\u001b[39;49m],[\u001b[39m2\u001b[39;49m]]))\n",
      "\u001b[1;32md:\\Documents\\Bachelor\\Maastricht\\Third Year\\Thesis\\RSG CGAN\\cgan\\utils\\Utils.ipynb Cell 4'\u001b[0m in \u001b[0;36mMMD\u001b[1;34m(x1, x2)\u001b[0m\n\u001b[0;32m     <a href='vscode-notebook-cell:/d%3A/Documents/Bachelor/Maastricht/Third%20Year/Thesis/RSG%20CGAN/cgan/utils/Utils.ipynb#ch0000008?line=9'>10</a>\u001b[0m \u001b[39mdef\u001b[39;00m \u001b[39mMMD\u001b[39m(x1, x2):\n\u001b[0;32m     <a href='vscode-notebook-cell:/d%3A/Documents/Bachelor/Maastricht/Third%20Year/Thesis/RSG%20CGAN/cgan/utils/Utils.ipynb#ch0000008?line=10'>11</a>\u001b[0m     \u001b[39m\"\"\"\u001b[39;00m\n\u001b[0;32m     <a href='vscode-notebook-cell:/d%3A/Documents/Bachelor/Maastricht/Third%20Year/Thesis/RSG%20CGAN/cgan/utils/Utils.ipynb#ch0000008?line=11'>12</a>\u001b[0m \u001b[39m    maximum mean discrepancy (MMD) based on Gaussian kernel\u001b[39;00m\n\u001b[0;32m     <a href='vscode-notebook-cell:/d%3A/Documents/Bachelor/Maastricht/Third%20Year/Thesis/RSG%20CGAN/cgan/utils/Utils.ipynb#ch0000008?line=12'>13</a>\u001b[0m \u001b[39m    function for keras models (theano or tensorflow backend)\u001b[39;00m\n\u001b[1;32m   (...)\u001b[0m\n\u001b[0;32m     <a href='vscode-notebook-cell:/d%3A/Documents/Bachelor/Maastricht/Third%20Year/Thesis/RSG%20CGAN/cgan/utils/Utils.ipynb#ch0000008?line=15'>16</a>\u001b[0m \u001b[39m    Advances in neural information processing systems. 2007.\u001b[39;00m\n\u001b[0;32m     <a href='vscode-notebook-cell:/d%3A/Documents/Bachelor/Maastricht/Third%20Year/Thesis/RSG%20CGAN/cgan/utils/Utils.ipynb#ch0000008?line=16'>17</a>\u001b[0m \u001b[39m    \"\"\"\u001b[39;00m\n\u001b[1;32m---> <a href='vscode-notebook-cell:/d%3A/Documents/Bachelor/Maastricht/Third%20Year/Thesis/RSG%20CGAN/cgan/utils/Utils.ipynb#ch0000008?line=17'>18</a>\u001b[0m     x1x1 \u001b[39m=\u001b[39m gaussian_kernel(x1, x1)\n\u001b[0;32m     <a href='vscode-notebook-cell:/d%3A/Documents/Bachelor/Maastricht/Third%20Year/Thesis/RSG%20CGAN/cgan/utils/Utils.ipynb#ch0000008?line=18'>19</a>\u001b[0m     x1x2 \u001b[39m=\u001b[39m gaussian_kernel(x1, x2)\n\u001b[0;32m     <a href='vscode-notebook-cell:/d%3A/Documents/Bachelor/Maastricht/Third%20Year/Thesis/RSG%20CGAN/cgan/utils/Utils.ipynb#ch0000008?line=19'>20</a>\u001b[0m     x2x2 \u001b[39m=\u001b[39m gaussian_kernel(x2, x2)\n",
      "\u001b[1;32md:\\Documents\\Bachelor\\Maastricht\\Third Year\\Thesis\\RSG CGAN\\cgan\\utils\\Utils.ipynb Cell 4'\u001b[0m in \u001b[0;36mgaussian_kernel\u001b[1;34m(x1, x2, beta)\u001b[0m\n\u001b[0;32m      <a href='vscode-notebook-cell:/d%3A/Documents/Bachelor/Maastricht/Third%20Year/Thesis/RSG%20CGAN/cgan/utils/Utils.ipynb#ch0000008?line=5'>6</a>\u001b[0m r \u001b[39m=\u001b[39m tf\u001b[39m.\u001b[39mtranspose(x1)\n\u001b[0;32m      <a href='vscode-notebook-cell:/d%3A/Documents/Bachelor/Maastricht/Third%20Year/Thesis/RSG%20CGAN/cgan/utils/Utils.ipynb#ch0000008?line=6'>7</a>\u001b[0m r \u001b[39m=\u001b[39m tf\u001b[39m.\u001b[39mexpand_dims(r, \u001b[39m2\u001b[39m)\n\u001b[1;32m----> <a href='vscode-notebook-cell:/d%3A/Documents/Bachelor/Maastricht/Third%20Year/Thesis/RSG%20CGAN/cgan/utils/Utils.ipynb#ch0000008?line=7'>8</a>\u001b[0m \u001b[39mreturn\u001b[39;00m tf\u001b[39m.\u001b[39mreduce_sum(K\u001b[39m.\u001b[39mexp( \u001b[39m-\u001b[39;49mbeta \u001b[39m*\u001b[39;49m K\u001b[39m.\u001b[39;49msquare(r \u001b[39m-\u001b[39;49m x2)), axis\u001b[39m=\u001b[39m\u001b[39m-\u001b[39m\u001b[39m1\u001b[39m)\n",
      "File \u001b[1;32mc:\\Users\\Joan\\anaconda3\\lib\\site-packages\\tensorflow\\python\\ops\\math_ops.py:1155\u001b[0m, in \u001b[0;36m_OverrideBinaryOperatorHelper.<locals>.r_binary_op_wrapper\u001b[1;34m(y, x)\u001b[0m\n\u001b[0;32m   <a href='file:///c%3A/Users/Joan/anaconda3/lib/site-packages/tensorflow/python/ops/math_ops.py?line=1152'>1153</a>\u001b[0m \u001b[39mdef\u001b[39;00m \u001b[39mr_binary_op_wrapper\u001b[39m(y, x):\n\u001b[0;32m   <a href='file:///c%3A/Users/Joan/anaconda3/lib/site-packages/tensorflow/python/ops/math_ops.py?line=1153'>1154</a>\u001b[0m   \u001b[39mwith\u001b[39;00m ops\u001b[39m.\u001b[39mname_scope(\u001b[39mNone\u001b[39;00m, op_name, [x, y]) \u001b[39mas\u001b[39;00m name:\n\u001b[1;32m-> <a href='file:///c%3A/Users/Joan/anaconda3/lib/site-packages/tensorflow/python/ops/math_ops.py?line=1154'>1155</a>\u001b[0m     x \u001b[39m=\u001b[39m ops\u001b[39m.\u001b[39;49mconvert_to_tensor(x, dtype\u001b[39m=\u001b[39;49my\u001b[39m.\u001b[39;49mdtype\u001b[39m.\u001b[39;49mbase_dtype, name\u001b[39m=\u001b[39;49m\u001b[39m\"\u001b[39;49m\u001b[39mx\u001b[39;49m\u001b[39m\"\u001b[39;49m)\n\u001b[0;32m   <a href='file:///c%3A/Users/Joan/anaconda3/lib/site-packages/tensorflow/python/ops/math_ops.py?line=1155'>1156</a>\u001b[0m     \u001b[39mreturn\u001b[39;00m func(x, y, name\u001b[39m=\u001b[39mname)\n",
      "File \u001b[1;32mc:\\Users\\Joan\\anaconda3\\lib\\site-packages\\tensorflow\\python\\framework\\ops.py:1499\u001b[0m, in \u001b[0;36mconvert_to_tensor\u001b[1;34m(value, dtype, name, as_ref, preferred_dtype, dtype_hint, ctx, accepted_result_types)\u001b[0m\n\u001b[0;32m   <a href='file:///c%3A/Users/Joan/anaconda3/lib/site-packages/tensorflow/python/framework/ops.py?line=1493'>1494</a>\u001b[0m       \u001b[39mraise\u001b[39;00m \u001b[39mTypeError\u001b[39;00m(\u001b[39m\"\u001b[39m\u001b[39mconvert_to_tensor did not convert to \u001b[39m\u001b[39m\"\u001b[39m\n\u001b[0;32m   <a href='file:///c%3A/Users/Joan/anaconda3/lib/site-packages/tensorflow/python/framework/ops.py?line=1494'>1495</a>\u001b[0m                       \u001b[39m\"\u001b[39m\u001b[39mthe preferred dtype: \u001b[39m\u001b[39m%s\u001b[39;00m\u001b[39m vs \u001b[39m\u001b[39m%s\u001b[39;00m\u001b[39m \u001b[39m\u001b[39m\"\u001b[39m \u001b[39m%\u001b[39m\n\u001b[0;32m   <a href='file:///c%3A/Users/Joan/anaconda3/lib/site-packages/tensorflow/python/framework/ops.py?line=1495'>1496</a>\u001b[0m                       (ret\u001b[39m.\u001b[39mdtype\u001b[39m.\u001b[39mbase_dtype, preferred_dtype\u001b[39m.\u001b[39mbase_dtype))\n\u001b[0;32m   <a href='file:///c%3A/Users/Joan/anaconda3/lib/site-packages/tensorflow/python/framework/ops.py?line=1497'>1498</a>\u001b[0m \u001b[39mif\u001b[39;00m ret \u001b[39mis\u001b[39;00m \u001b[39mNone\u001b[39;00m:\n\u001b[1;32m-> <a href='file:///c%3A/Users/Joan/anaconda3/lib/site-packages/tensorflow/python/framework/ops.py?line=1498'>1499</a>\u001b[0m   ret \u001b[39m=\u001b[39m conversion_func(value, dtype\u001b[39m=\u001b[39;49mdtype, name\u001b[39m=\u001b[39;49mname, as_ref\u001b[39m=\u001b[39;49mas_ref)\n\u001b[0;32m   <a href='file:///c%3A/Users/Joan/anaconda3/lib/site-packages/tensorflow/python/framework/ops.py?line=1500'>1501</a>\u001b[0m \u001b[39mif\u001b[39;00m ret \u001b[39mis\u001b[39;00m \u001b[39mNotImplemented\u001b[39m:\n\u001b[0;32m   <a href='file:///c%3A/Users/Joan/anaconda3/lib/site-packages/tensorflow/python/framework/ops.py?line=1501'>1502</a>\u001b[0m   \u001b[39mcontinue\u001b[39;00m\n",
      "File \u001b[1;32mc:\\Users\\Joan\\anaconda3\\lib\\site-packages\\tensorflow\\python\\framework\\tensor_conversion_registry.py:52\u001b[0m, in \u001b[0;36m_default_conversion_function\u001b[1;34m(***failed resolving arguments***)\u001b[0m\n\u001b[0;32m     <a href='file:///c%3A/Users/Joan/anaconda3/lib/site-packages/tensorflow/python/framework/tensor_conversion_registry.py?line=49'>50</a>\u001b[0m \u001b[39mdef\u001b[39;00m \u001b[39m_default_conversion_function\u001b[39m(value, dtype, name, as_ref):\n\u001b[0;32m     <a href='file:///c%3A/Users/Joan/anaconda3/lib/site-packages/tensorflow/python/framework/tensor_conversion_registry.py?line=50'>51</a>\u001b[0m   \u001b[39mdel\u001b[39;00m as_ref  \u001b[39m# Unused.\u001b[39;00m\n\u001b[1;32m---> <a href='file:///c%3A/Users/Joan/anaconda3/lib/site-packages/tensorflow/python/framework/tensor_conversion_registry.py?line=51'>52</a>\u001b[0m   \u001b[39mreturn\u001b[39;00m constant_op\u001b[39m.\u001b[39;49mconstant(value, dtype, name\u001b[39m=\u001b[39;49mname)\n",
      "File \u001b[1;32mc:\\Users\\Joan\\anaconda3\\lib\\site-packages\\tensorflow\\python\\framework\\constant_op.py:263\u001b[0m, in \u001b[0;36mconstant\u001b[1;34m(value, dtype, shape, name)\u001b[0m\n\u001b[0;32m    <a href='file:///c%3A/Users/Joan/anaconda3/lib/site-packages/tensorflow/python/framework/constant_op.py?line=165'>166</a>\u001b[0m \u001b[39m@tf_export\u001b[39m(\u001b[39m\"\u001b[39m\u001b[39mconstant\u001b[39m\u001b[39m\"\u001b[39m, v1\u001b[39m=\u001b[39m[])\n\u001b[0;32m    <a href='file:///c%3A/Users/Joan/anaconda3/lib/site-packages/tensorflow/python/framework/constant_op.py?line=166'>167</a>\u001b[0m \u001b[39mdef\u001b[39;00m \u001b[39mconstant\u001b[39m(value, dtype\u001b[39m=\u001b[39m\u001b[39mNone\u001b[39;00m, shape\u001b[39m=\u001b[39m\u001b[39mNone\u001b[39;00m, name\u001b[39m=\u001b[39m\u001b[39m\"\u001b[39m\u001b[39mConst\u001b[39m\u001b[39m\"\u001b[39m):\n\u001b[0;32m    <a href='file:///c%3A/Users/Joan/anaconda3/lib/site-packages/tensorflow/python/framework/constant_op.py?line=167'>168</a>\u001b[0m   \u001b[39m\"\"\"Creates a constant tensor from a tensor-like object.\u001b[39;00m\n\u001b[0;32m    <a href='file:///c%3A/Users/Joan/anaconda3/lib/site-packages/tensorflow/python/framework/constant_op.py?line=168'>169</a>\u001b[0m \n\u001b[0;32m    <a href='file:///c%3A/Users/Joan/anaconda3/lib/site-packages/tensorflow/python/framework/constant_op.py?line=169'>170</a>\u001b[0m \u001b[39m  Note: All eager `tf.Tensor` values are immutable (in contrast to\u001b[39;00m\n\u001b[1;32m   (...)\u001b[0m\n\u001b[0;32m    <a href='file:///c%3A/Users/Joan/anaconda3/lib/site-packages/tensorflow/python/framework/constant_op.py?line=260'>261</a>\u001b[0m \u001b[39m    ValueError: if called on a symbolic tensor.\u001b[39;00m\n\u001b[0;32m    <a href='file:///c%3A/Users/Joan/anaconda3/lib/site-packages/tensorflow/python/framework/constant_op.py?line=261'>262</a>\u001b[0m \u001b[39m  \"\"\"\u001b[39;00m\n\u001b[1;32m--> <a href='file:///c%3A/Users/Joan/anaconda3/lib/site-packages/tensorflow/python/framework/constant_op.py?line=262'>263</a>\u001b[0m   \u001b[39mreturn\u001b[39;00m _constant_impl(value, dtype, shape, name, verify_shape\u001b[39m=\u001b[39;49m\u001b[39mFalse\u001b[39;49;00m,\n\u001b[0;32m    <a href='file:///c%3A/Users/Joan/anaconda3/lib/site-packages/tensorflow/python/framework/constant_op.py?line=263'>264</a>\u001b[0m                         allow_broadcast\u001b[39m=\u001b[39;49m\u001b[39mTrue\u001b[39;49;00m)\n",
      "File \u001b[1;32mc:\\Users\\Joan\\anaconda3\\lib\\site-packages\\tensorflow\\python\\framework\\constant_op.py:275\u001b[0m, in \u001b[0;36m_constant_impl\u001b[1;34m(value, dtype, shape, name, verify_shape, allow_broadcast)\u001b[0m\n\u001b[0;32m    <a href='file:///c%3A/Users/Joan/anaconda3/lib/site-packages/tensorflow/python/framework/constant_op.py?line=272'>273</a>\u001b[0m     \u001b[39mwith\u001b[39;00m trace\u001b[39m.\u001b[39mTrace(\u001b[39m\"\u001b[39m\u001b[39mtf.constant\u001b[39m\u001b[39m\"\u001b[39m):\n\u001b[0;32m    <a href='file:///c%3A/Users/Joan/anaconda3/lib/site-packages/tensorflow/python/framework/constant_op.py?line=273'>274</a>\u001b[0m       \u001b[39mreturn\u001b[39;00m _constant_eager_impl(ctx, value, dtype, shape, verify_shape)\n\u001b[1;32m--> <a href='file:///c%3A/Users/Joan/anaconda3/lib/site-packages/tensorflow/python/framework/constant_op.py?line=274'>275</a>\u001b[0m   \u001b[39mreturn\u001b[39;00m _constant_eager_impl(ctx, value, dtype, shape, verify_shape)\n\u001b[0;32m    <a href='file:///c%3A/Users/Joan/anaconda3/lib/site-packages/tensorflow/python/framework/constant_op.py?line=276'>277</a>\u001b[0m g \u001b[39m=\u001b[39m ops\u001b[39m.\u001b[39mget_default_graph()\n\u001b[0;32m    <a href='file:///c%3A/Users/Joan/anaconda3/lib/site-packages/tensorflow/python/framework/constant_op.py?line=277'>278</a>\u001b[0m tensor_value \u001b[39m=\u001b[39m attr_value_pb2\u001b[39m.\u001b[39mAttrValue()\n",
      "File \u001b[1;32mc:\\Users\\Joan\\anaconda3\\lib\\site-packages\\tensorflow\\python\\framework\\constant_op.py:300\u001b[0m, in \u001b[0;36m_constant_eager_impl\u001b[1;34m(ctx, value, dtype, shape, verify_shape)\u001b[0m\n\u001b[0;32m    <a href='file:///c%3A/Users/Joan/anaconda3/lib/site-packages/tensorflow/python/framework/constant_op.py?line=297'>298</a>\u001b[0m \u001b[39mdef\u001b[39;00m \u001b[39m_constant_eager_impl\u001b[39m(ctx, value, dtype, shape, verify_shape):\n\u001b[0;32m    <a href='file:///c%3A/Users/Joan/anaconda3/lib/site-packages/tensorflow/python/framework/constant_op.py?line=298'>299</a>\u001b[0m   \u001b[39m\"\"\"Implementation of eager constant.\"\"\"\u001b[39;00m\n\u001b[1;32m--> <a href='file:///c%3A/Users/Joan/anaconda3/lib/site-packages/tensorflow/python/framework/constant_op.py?line=299'>300</a>\u001b[0m   t \u001b[39m=\u001b[39m convert_to_eager_tensor(value, ctx, dtype)\n\u001b[0;32m    <a href='file:///c%3A/Users/Joan/anaconda3/lib/site-packages/tensorflow/python/framework/constant_op.py?line=300'>301</a>\u001b[0m   \u001b[39mif\u001b[39;00m shape \u001b[39mis\u001b[39;00m \u001b[39mNone\u001b[39;00m:\n\u001b[0;32m    <a href='file:///c%3A/Users/Joan/anaconda3/lib/site-packages/tensorflow/python/framework/constant_op.py?line=301'>302</a>\u001b[0m     \u001b[39mreturn\u001b[39;00m t\n",
      "File \u001b[1;32mc:\\Users\\Joan\\anaconda3\\lib\\site-packages\\tensorflow\\python\\framework\\constant_op.py:98\u001b[0m, in \u001b[0;36mconvert_to_eager_tensor\u001b[1;34m(value, ctx, dtype)\u001b[0m\n\u001b[0;32m     <a href='file:///c%3A/Users/Joan/anaconda3/lib/site-packages/tensorflow/python/framework/constant_op.py?line=95'>96</a>\u001b[0m     dtype \u001b[39m=\u001b[39m dtypes\u001b[39m.\u001b[39mas_dtype(dtype)\u001b[39m.\u001b[39mas_datatype_enum\n\u001b[0;32m     <a href='file:///c%3A/Users/Joan/anaconda3/lib/site-packages/tensorflow/python/framework/constant_op.py?line=96'>97</a>\u001b[0m ctx\u001b[39m.\u001b[39mensure_initialized()\n\u001b[1;32m---> <a href='file:///c%3A/Users/Joan/anaconda3/lib/site-packages/tensorflow/python/framework/constant_op.py?line=97'>98</a>\u001b[0m \u001b[39mreturn\u001b[39;00m ops\u001b[39m.\u001b[39;49mEagerTensor(value, ctx\u001b[39m.\u001b[39;49mdevice_name, dtype)\n",
      "\u001b[1;31mTypeError\u001b[0m: Cannot convert -0.1 to EagerTensor of dtype int32"
     ]
    }
   ],
   "source": [
    "import tensorflow as tf\n",
    "\n",
    "\n",
    "\n",
    "def gaussian_kernel(x1, x2, beta = 0.1):\n",
    "    r = tf.transpose(x1)\n",
    "    r = tf.expand_dims(r, 2)\n",
    "    return tf.reduce_sum(K.exp( -beta * K.square(r - x2)), axis=-1)\n",
    "  \n",
    "def MMD(x1, x2):\n",
    "    \"\"\"\n",
    "    maximum mean discrepancy (MMD) based on Gaussian kernel\n",
    "    function for keras models (theano or tensorflow backend)\n",
    "    \n",
    "    - Gretton, Arthur, et al. \"A kernel method for the two-sample-problem.\"\n",
    "    Advances in neural information processing systems. 2007.\n",
    "    \"\"\"\n",
    "    x1x1 = gaussian_kernel(x1, x1)\n",
    "    x1x2 = gaussian_kernel(x1, x2)\n",
    "    x2x2 = gaussian_kernel(x2, x2)\n",
    "    diff = tf.reduce_mean(x1x1) - 2 * tf.reduce_mean(x1x2) + tf.reduce_mean(x2x2)\n",
    "    return diff\n",
    "\n",
    "print(MMD([[1],[1]],[[2],[2]]))"
   ]
  },
  {
   "cell_type": "code",
   "execution_count": 41,
   "metadata": {},
   "outputs": [
    {
     "ename": "TypeError",
     "evalue": "x and y must have the same dtype, got tf.float64 != tf.float32",
     "output_type": "error",
     "traceback": [
      "\u001b[1;31m---------------------------------------------------------------------------\u001b[0m",
      "\u001b[1;31mValueError\u001b[0m                                Traceback (most recent call last)",
      "File \u001b[1;32mc:\\Users\\Joan\\anaconda3\\lib\\site-packages\\tensorflow\\python\\ops\\math_ops.py:1136\u001b[0m, in \u001b[0;36m_OverrideBinaryOperatorHelper.<locals>.binary_op_wrapper\u001b[1;34m(x, y)\u001b[0m\n\u001b[0;32m   <a href='file:///c%3A/Users/Joan/anaconda3/lib/site-packages/tensorflow/python/ops/math_ops.py?line=1134'>1135</a>\u001b[0m r_op \u001b[39m=\u001b[39m \u001b[39mgetattr\u001b[39m(y, \u001b[39m\"\u001b[39m\u001b[39m__r\u001b[39m\u001b[39m%s\u001b[39;00m\u001b[39m__\u001b[39m\u001b[39m\"\u001b[39m \u001b[39m%\u001b[39m op_name)\n\u001b[1;32m-> <a href='file:///c%3A/Users/Joan/anaconda3/lib/site-packages/tensorflow/python/ops/math_ops.py?line=1135'>1136</a>\u001b[0m out \u001b[39m=\u001b[39m r_op(x)\n\u001b[0;32m   <a href='file:///c%3A/Users/Joan/anaconda3/lib/site-packages/tensorflow/python/ops/math_ops.py?line=1136'>1137</a>\u001b[0m \u001b[39mif\u001b[39;00m out \u001b[39m==\u001b[39m \u001b[39mNotImplemented\u001b[39m:\n",
      "File \u001b[1;32mc:\\Users\\Joan\\anaconda3\\lib\\site-packages\\tensorflow\\python\\ops\\math_ops.py:1155\u001b[0m, in \u001b[0;36m_OverrideBinaryOperatorHelper.<locals>.r_binary_op_wrapper\u001b[1;34m(y, x)\u001b[0m\n\u001b[0;32m   <a href='file:///c%3A/Users/Joan/anaconda3/lib/site-packages/tensorflow/python/ops/math_ops.py?line=1153'>1154</a>\u001b[0m \u001b[39mwith\u001b[39;00m ops\u001b[39m.\u001b[39mname_scope(\u001b[39mNone\u001b[39;00m, op_name, [x, y]) \u001b[39mas\u001b[39;00m name:\n\u001b[1;32m-> <a href='file:///c%3A/Users/Joan/anaconda3/lib/site-packages/tensorflow/python/ops/math_ops.py?line=1154'>1155</a>\u001b[0m   x \u001b[39m=\u001b[39m ops\u001b[39m.\u001b[39;49mconvert_to_tensor(x, dtype\u001b[39m=\u001b[39;49my\u001b[39m.\u001b[39;49mdtype\u001b[39m.\u001b[39;49mbase_dtype, name\u001b[39m=\u001b[39;49m\u001b[39m\"\u001b[39;49m\u001b[39mx\u001b[39;49m\u001b[39m\"\u001b[39;49m)\n\u001b[0;32m   <a href='file:///c%3A/Users/Joan/anaconda3/lib/site-packages/tensorflow/python/ops/math_ops.py?line=1155'>1156</a>\u001b[0m   \u001b[39mreturn\u001b[39;00m func(x, y, name\u001b[39m=\u001b[39mname)\n",
      "File \u001b[1;32mc:\\Users\\Joan\\anaconda3\\lib\\site-packages\\tensorflow\\python\\framework\\ops.py:1473\u001b[0m, in \u001b[0;36mconvert_to_tensor\u001b[1;34m(value, dtype, name, as_ref, preferred_dtype, dtype_hint, ctx, accepted_result_types)\u001b[0m\n\u001b[0;32m   <a href='file:///c%3A/Users/Joan/anaconda3/lib/site-packages/tensorflow/python/framework/ops.py?line=1471'>1472</a>\u001b[0m \u001b[39mif\u001b[39;00m dtype \u001b[39mis\u001b[39;00m \u001b[39mnot\u001b[39;00m \u001b[39mNone\u001b[39;00m \u001b[39mand\u001b[39;00m \u001b[39mnot\u001b[39;00m dtype\u001b[39m.\u001b[39mis_compatible_with(value\u001b[39m.\u001b[39mdtype):\n\u001b[1;32m-> <a href='file:///c%3A/Users/Joan/anaconda3/lib/site-packages/tensorflow/python/framework/ops.py?line=1472'>1473</a>\u001b[0m   \u001b[39mraise\u001b[39;00m \u001b[39mValueError\u001b[39;00m(\n\u001b[0;32m   <a href='file:///c%3A/Users/Joan/anaconda3/lib/site-packages/tensorflow/python/framework/ops.py?line=1473'>1474</a>\u001b[0m       \u001b[39m\"\u001b[39m\u001b[39mTensor conversion requested dtype \u001b[39m\u001b[39m%s\u001b[39;00m\u001b[39m for Tensor with dtype \u001b[39m\u001b[39m%s\u001b[39;00m\u001b[39m: \u001b[39m\u001b[39m%r\u001b[39;00m\u001b[39m\"\u001b[39m \u001b[39m%\u001b[39m\n\u001b[0;32m   <a href='file:///c%3A/Users/Joan/anaconda3/lib/site-packages/tensorflow/python/framework/ops.py?line=1474'>1475</a>\u001b[0m       (dtype\u001b[39m.\u001b[39mname, value\u001b[39m.\u001b[39mdtype\u001b[39m.\u001b[39mname, value))\n\u001b[0;32m   <a href='file:///c%3A/Users/Joan/anaconda3/lib/site-packages/tensorflow/python/framework/ops.py?line=1475'>1476</a>\u001b[0m \u001b[39mreturn\u001b[39;00m value\n",
      "\u001b[1;31mValueError\u001b[0m: Tensor conversion requested dtype float32 for Tensor with dtype float64: <tf.Tensor: shape=(2, 2), dtype=float64, numpy=\narray([[-0.  , -0.81],\n       [-0.81, -0.  ]])>",
      "\nDuring handling of the above exception, another exception occurred:\n",
      "\u001b[1;31mTypeError\u001b[0m                                 Traceback (most recent call last)",
      "\u001b[1;32md:\\Documents\\Bachelor\\Maastricht\\Third Year\\Thesis\\RSG CGAN\\cgan\\utils\\Utils.ipynb Cell 5'\u001b[0m in \u001b[0;36m<cell line: 18>\u001b[1;34m()\u001b[0m\n\u001b[0;32m     <a href='vscode-notebook-cell:/d%3A/Documents/Bachelor/Maastricht/Third%20Year/Thesis/RSG%20CGAN/cgan/utils/Utils.ipynb#ch0000010?line=15'>16</a>\u001b[0m array1 \u001b[39m=\u001b[39m np\u001b[39m.\u001b[39marray([[\u001b[39m2.1\u001b[39m],[\u001b[39m1.2\u001b[39m]])\n\u001b[0;32m     <a href='vscode-notebook-cell:/d%3A/Documents/Bachelor/Maastricht/Third%20Year/Thesis/RSG%20CGAN/cgan/utils/Utils.ipynb#ch0000010?line=16'>17</a>\u001b[0m array2 \u001b[39m=\u001b[39m np\u001b[39m.\u001b[39marray([[\u001b[39m2.1\u001b[39m],[\u001b[39m1.1\u001b[39m]])\n\u001b[1;32m---> <a href='vscode-notebook-cell:/d%3A/Documents/Bachelor/Maastricht/Third%20Year/Thesis/RSG%20CGAN/cgan/utils/Utils.ipynb#ch0000010?line=17'>18</a>\u001b[0m s \u001b[39m=\u001b[39m compute_mmd(array1,array2)\n",
      "\u001b[1;32md:\\Documents\\Bachelor\\Maastricht\\Third Year\\Thesis\\RSG CGAN\\cgan\\utils\\Utils.ipynb Cell 5'\u001b[0m in \u001b[0;36mcompute_mmd\u001b[1;34m(x, y)\u001b[0m\n\u001b[0;32m     <a href='vscode-notebook-cell:/d%3A/Documents/Bachelor/Maastricht/Third%20Year/Thesis/RSG%20CGAN/cgan/utils/Utils.ipynb#ch0000010?line=9'>10</a>\u001b[0m \u001b[39mdef\u001b[39;00m \u001b[39mcompute_mmd\u001b[39m(x, y):\n\u001b[1;32m---> <a href='vscode-notebook-cell:/d%3A/Documents/Bachelor/Maastricht/Third%20Year/Thesis/RSG%20CGAN/cgan/utils/Utils.ipynb#ch0000010?line=10'>11</a>\u001b[0m     x_kernel \u001b[39m=\u001b[39m compute_kernel(x, x)\n\u001b[0;32m     <a href='vscode-notebook-cell:/d%3A/Documents/Bachelor/Maastricht/Third%20Year/Thesis/RSG%20CGAN/cgan/utils/Utils.ipynb#ch0000010?line=11'>12</a>\u001b[0m     y_kernel \u001b[39m=\u001b[39m compute_kernel(y, y)\n\u001b[0;32m     <a href='vscode-notebook-cell:/d%3A/Documents/Bachelor/Maastricht/Third%20Year/Thesis/RSG%20CGAN/cgan/utils/Utils.ipynb#ch0000010?line=12'>13</a>\u001b[0m     xy_kernel \u001b[39m=\u001b[39m compute_kernel(x, y)\n",
      "\u001b[1;32md:\\Documents\\Bachelor\\Maastricht\\Third Year\\Thesis\\RSG CGAN\\cgan\\utils\\Utils.ipynb Cell 5'\u001b[0m in \u001b[0;36mcompute_kernel\u001b[1;34m(x, y)\u001b[0m\n\u001b[0;32m      <a href='vscode-notebook-cell:/d%3A/Documents/Bachelor/Maastricht/Third%20Year/Thesis/RSG%20CGAN/cgan/utils/Utils.ipynb#ch0000010?line=5'>6</a>\u001b[0m tiled_x \u001b[39m=\u001b[39m K\u001b[39m.\u001b[39mtile(K\u001b[39m.\u001b[39mreshape(x, [x_size, \u001b[39m1\u001b[39m, dim]), [\u001b[39m1\u001b[39m, y_size, \u001b[39m1\u001b[39m])\n\u001b[0;32m      <a href='vscode-notebook-cell:/d%3A/Documents/Bachelor/Maastricht/Third%20Year/Thesis/RSG%20CGAN/cgan/utils/Utils.ipynb#ch0000010?line=6'>7</a>\u001b[0m tiled_y \u001b[39m=\u001b[39m K\u001b[39m.\u001b[39mtile(K\u001b[39m.\u001b[39mreshape(y, [\u001b[39m1\u001b[39m, y_size, dim]), [x_size, \u001b[39m1\u001b[39m, \u001b[39m1\u001b[39m])\n\u001b[1;32m----> <a href='vscode-notebook-cell:/d%3A/Documents/Bachelor/Maastricht/Third%20Year/Thesis/RSG%20CGAN/cgan/utils/Utils.ipynb#ch0000010?line=7'>8</a>\u001b[0m \u001b[39mreturn\u001b[39;00m K\u001b[39m.\u001b[39mexp(\u001b[39m-\u001b[39;49mK\u001b[39m.\u001b[39;49mmean(K\u001b[39m.\u001b[39;49msquare(tiled_x \u001b[39m-\u001b[39;49m tiled_y), axis\u001b[39m=\u001b[39;49m\u001b[39m2\u001b[39;49m) \u001b[39m/\u001b[39;49m K\u001b[39m.\u001b[39;49mcast(dim, \u001b[39m'\u001b[39;49m\u001b[39mfloat32\u001b[39;49m\u001b[39m'\u001b[39;49m))\n",
      "File \u001b[1;32mc:\\Users\\Joan\\anaconda3\\lib\\site-packages\\tensorflow\\python\\ops\\math_ops.py:1141\u001b[0m, in \u001b[0;36m_OverrideBinaryOperatorHelper.<locals>.binary_op_wrapper\u001b[1;34m(x, y)\u001b[0m\n\u001b[0;32m   <a href='file:///c%3A/Users/Joan/anaconda3/lib/site-packages/tensorflow/python/ops/math_ops.py?line=1138'>1139</a>\u001b[0m     \u001b[39mreturn\u001b[39;00m out\n\u001b[0;32m   <a href='file:///c%3A/Users/Joan/anaconda3/lib/site-packages/tensorflow/python/ops/math_ops.py?line=1139'>1140</a>\u001b[0m   \u001b[39mexcept\u001b[39;00m (\u001b[39mTypeError\u001b[39;00m, \u001b[39mValueError\u001b[39;00m):\n\u001b[1;32m-> <a href='file:///c%3A/Users/Joan/anaconda3/lib/site-packages/tensorflow/python/ops/math_ops.py?line=1140'>1141</a>\u001b[0m     \u001b[39mraise\u001b[39;00m e\n\u001b[0;32m   <a href='file:///c%3A/Users/Joan/anaconda3/lib/site-packages/tensorflow/python/ops/math_ops.py?line=1141'>1142</a>\u001b[0m \u001b[39melse\u001b[39;00m:\n\u001b[0;32m   <a href='file:///c%3A/Users/Joan/anaconda3/lib/site-packages/tensorflow/python/ops/math_ops.py?line=1142'>1143</a>\u001b[0m   \u001b[39mraise\u001b[39;00m\n",
      "File \u001b[1;32mc:\\Users\\Joan\\anaconda3\\lib\\site-packages\\tensorflow\\python\\ops\\math_ops.py:1125\u001b[0m, in \u001b[0;36m_OverrideBinaryOperatorHelper.<locals>.binary_op_wrapper\u001b[1;34m(x, y)\u001b[0m\n\u001b[0;32m   <a href='file:///c%3A/Users/Joan/anaconda3/lib/site-packages/tensorflow/python/ops/math_ops.py?line=1122'>1123</a>\u001b[0m \u001b[39mwith\u001b[39;00m ops\u001b[39m.\u001b[39mname_scope(\u001b[39mNone\u001b[39;00m, op_name, [x, y]) \u001b[39mas\u001b[39;00m name:\n\u001b[0;32m   <a href='file:///c%3A/Users/Joan/anaconda3/lib/site-packages/tensorflow/python/ops/math_ops.py?line=1123'>1124</a>\u001b[0m   \u001b[39mtry\u001b[39;00m:\n\u001b[1;32m-> <a href='file:///c%3A/Users/Joan/anaconda3/lib/site-packages/tensorflow/python/ops/math_ops.py?line=1124'>1125</a>\u001b[0m     \u001b[39mreturn\u001b[39;00m func(x, y, name\u001b[39m=\u001b[39;49mname)\n\u001b[0;32m   <a href='file:///c%3A/Users/Joan/anaconda3/lib/site-packages/tensorflow/python/ops/math_ops.py?line=1125'>1126</a>\u001b[0m   \u001b[39mexcept\u001b[39;00m (\u001b[39mTypeError\u001b[39;00m, \u001b[39mValueError\u001b[39;00m) \u001b[39mas\u001b[39;00m e:\n\u001b[0;32m   <a href='file:///c%3A/Users/Joan/anaconda3/lib/site-packages/tensorflow/python/ops/math_ops.py?line=1126'>1127</a>\u001b[0m     \u001b[39m# Even if dispatching the op failed, the RHS may be a tensor aware\u001b[39;00m\n\u001b[0;32m   <a href='file:///c%3A/Users/Joan/anaconda3/lib/site-packages/tensorflow/python/ops/math_ops.py?line=1127'>1128</a>\u001b[0m     \u001b[39m# object that can implement the operator with knowledge of itself\u001b[39;00m\n\u001b[1;32m   (...)\u001b[0m\n\u001b[0;32m   <a href='file:///c%3A/Users/Joan/anaconda3/lib/site-packages/tensorflow/python/ops/math_ops.py?line=1130'>1131</a>\u001b[0m     \u001b[39m# original error from the LHS, because it may be more\u001b[39;00m\n\u001b[0;32m   <a href='file:///c%3A/Users/Joan/anaconda3/lib/site-packages/tensorflow/python/ops/math_ops.py?line=1131'>1132</a>\u001b[0m     \u001b[39m# informative.\u001b[39;00m\n\u001b[0;32m   <a href='file:///c%3A/Users/Joan/anaconda3/lib/site-packages/tensorflow/python/ops/math_ops.py?line=1132'>1133</a>\u001b[0m     \u001b[39mif\u001b[39;00m \u001b[39mhasattr\u001b[39m(\u001b[39mtype\u001b[39m(y), \u001b[39m\"\u001b[39m\u001b[39m__r\u001b[39m\u001b[39m%s\u001b[39;00m\u001b[39m__\u001b[39m\u001b[39m\"\u001b[39m \u001b[39m%\u001b[39m op_name):\n",
      "File \u001b[1;32mc:\\Users\\Joan\\anaconda3\\lib\\site-packages\\tensorflow\\python\\util\\dispatch.py:201\u001b[0m, in \u001b[0;36madd_dispatch_support.<locals>.wrapper\u001b[1;34m(*args, **kwargs)\u001b[0m\n\u001b[0;32m    <a href='file:///c%3A/Users/Joan/anaconda3/lib/site-packages/tensorflow/python/util/dispatch.py?line=198'>199</a>\u001b[0m \u001b[39m\"\"\"Call target, and fall back on dispatchers if there is a TypeError.\"\"\"\u001b[39;00m\n\u001b[0;32m    <a href='file:///c%3A/Users/Joan/anaconda3/lib/site-packages/tensorflow/python/util/dispatch.py?line=199'>200</a>\u001b[0m \u001b[39mtry\u001b[39;00m:\n\u001b[1;32m--> <a href='file:///c%3A/Users/Joan/anaconda3/lib/site-packages/tensorflow/python/util/dispatch.py?line=200'>201</a>\u001b[0m   \u001b[39mreturn\u001b[39;00m target(\u001b[39m*\u001b[39;49margs, \u001b[39m*\u001b[39;49m\u001b[39m*\u001b[39;49mkwargs)\n\u001b[0;32m    <a href='file:///c%3A/Users/Joan/anaconda3/lib/site-packages/tensorflow/python/util/dispatch.py?line=201'>202</a>\u001b[0m \u001b[39mexcept\u001b[39;00m (\u001b[39mTypeError\u001b[39;00m, \u001b[39mValueError\u001b[39;00m):\n\u001b[0;32m    <a href='file:///c%3A/Users/Joan/anaconda3/lib/site-packages/tensorflow/python/util/dispatch.py?line=202'>203</a>\u001b[0m   \u001b[39m# Note: convert_to_eager_tensor currently raises a ValueError, not a\u001b[39;00m\n\u001b[0;32m    <a href='file:///c%3A/Users/Joan/anaconda3/lib/site-packages/tensorflow/python/util/dispatch.py?line=203'>204</a>\u001b[0m   \u001b[39m# TypeError, when given unexpected types.  So we need to catch both.\u001b[39;00m\n\u001b[0;32m    <a href='file:///c%3A/Users/Joan/anaconda3/lib/site-packages/tensorflow/python/util/dispatch.py?line=204'>205</a>\u001b[0m   result \u001b[39m=\u001b[39m dispatch(wrapper, args, kwargs)\n",
      "File \u001b[1;32mc:\\Users\\Joan\\anaconda3\\lib\\site-packages\\tensorflow\\python\\ops\\math_ops.py:1297\u001b[0m, in \u001b[0;36mtruediv\u001b[1;34m(x, y, name)\u001b[0m\n\u001b[0;32m   <a href='file:///c%3A/Users/Joan/anaconda3/lib/site-packages/tensorflow/python/ops/math_ops.py?line=1266'>1267</a>\u001b[0m \u001b[39m@tf_export\u001b[39m(\u001b[39m\"\u001b[39m\u001b[39mmath.truediv\u001b[39m\u001b[39m\"\u001b[39m, \u001b[39m\"\u001b[39m\u001b[39mtruediv\u001b[39m\u001b[39m\"\u001b[39m)\n\u001b[0;32m   <a href='file:///c%3A/Users/Joan/anaconda3/lib/site-packages/tensorflow/python/ops/math_ops.py?line=1267'>1268</a>\u001b[0m \u001b[39m@dispatch\u001b[39m\u001b[39m.\u001b[39madd_dispatch_support\n\u001b[0;32m   <a href='file:///c%3A/Users/Joan/anaconda3/lib/site-packages/tensorflow/python/ops/math_ops.py?line=1268'>1269</a>\u001b[0m \u001b[39mdef\u001b[39;00m \u001b[39mtruediv\u001b[39m(x, y, name\u001b[39m=\u001b[39m\u001b[39mNone\u001b[39;00m):\n\u001b[0;32m   <a href='file:///c%3A/Users/Joan/anaconda3/lib/site-packages/tensorflow/python/ops/math_ops.py?line=1269'>1270</a>\u001b[0m   \u001b[39m\"\"\"Divides x / y elementwise (using Python 3 division operator semantics).\u001b[39;00m\n\u001b[0;32m   <a href='file:///c%3A/Users/Joan/anaconda3/lib/site-packages/tensorflow/python/ops/math_ops.py?line=1270'>1271</a>\u001b[0m \n\u001b[0;32m   <a href='file:///c%3A/Users/Joan/anaconda3/lib/site-packages/tensorflow/python/ops/math_ops.py?line=1271'>1272</a>\u001b[0m \u001b[39m  NOTE: Prefer using the Tensor operator or tf.divide which obey Python\u001b[39;00m\n\u001b[1;32m   (...)\u001b[0m\n\u001b[0;32m   <a href='file:///c%3A/Users/Joan/anaconda3/lib/site-packages/tensorflow/python/ops/math_ops.py?line=1294'>1295</a>\u001b[0m \u001b[39m    TypeError: If `x` and `y` have different dtypes.\u001b[39;00m\n\u001b[0;32m   <a href='file:///c%3A/Users/Joan/anaconda3/lib/site-packages/tensorflow/python/ops/math_ops.py?line=1295'>1296</a>\u001b[0m \u001b[39m  \"\"\"\u001b[39;00m\n\u001b[1;32m-> <a href='file:///c%3A/Users/Joan/anaconda3/lib/site-packages/tensorflow/python/ops/math_ops.py?line=1296'>1297</a>\u001b[0m   \u001b[39mreturn\u001b[39;00m _truediv_python3(x, y, name)\n",
      "File \u001b[1;32mc:\\Users\\Joan\\anaconda3\\lib\\site-packages\\tensorflow\\python\\ops\\math_ops.py:1227\u001b[0m, in \u001b[0;36m_truediv_python3\u001b[1;34m(x, y, name)\u001b[0m\n\u001b[0;32m   <a href='file:///c%3A/Users/Joan/anaconda3/lib/site-packages/tensorflow/python/ops/math_ops.py?line=1224'>1225</a>\u001b[0m y_dtype \u001b[39m=\u001b[39m y\u001b[39m.\u001b[39mdtype\u001b[39m.\u001b[39mbase_dtype\n\u001b[0;32m   <a href='file:///c%3A/Users/Joan/anaconda3/lib/site-packages/tensorflow/python/ops/math_ops.py?line=1225'>1226</a>\u001b[0m \u001b[39mif\u001b[39;00m x_dtype \u001b[39m!=\u001b[39m y_dtype:\n\u001b[1;32m-> <a href='file:///c%3A/Users/Joan/anaconda3/lib/site-packages/tensorflow/python/ops/math_ops.py?line=1226'>1227</a>\u001b[0m   \u001b[39mraise\u001b[39;00m \u001b[39mTypeError\u001b[39;00m(\u001b[39m\"\u001b[39m\u001b[39mx and y must have the same dtype, got \u001b[39m\u001b[39m%r\u001b[39;00m\u001b[39m != \u001b[39m\u001b[39m%r\u001b[39;00m\u001b[39m\"\u001b[39m \u001b[39m%\u001b[39m\n\u001b[0;32m   <a href='file:///c%3A/Users/Joan/anaconda3/lib/site-packages/tensorflow/python/ops/math_ops.py?line=1227'>1228</a>\u001b[0m                   (x_dtype, y_dtype))\n\u001b[0;32m   <a href='file:///c%3A/Users/Joan/anaconda3/lib/site-packages/tensorflow/python/ops/math_ops.py?line=1228'>1229</a>\u001b[0m \u001b[39mtry\u001b[39;00m:\n\u001b[0;32m   <a href='file:///c%3A/Users/Joan/anaconda3/lib/site-packages/tensorflow/python/ops/math_ops.py?line=1229'>1230</a>\u001b[0m   dtype \u001b[39m=\u001b[39m _TRUEDIV_TABLE[x_dtype]\n",
      "\u001b[1;31mTypeError\u001b[0m: x and y must have the same dtype, got tf.float64 != tf.float32"
     ]
    }
   ],
   "source": [
    "'MMD functions'\n",
    "def compute_kernel(x, y):\n",
    "    x_size = K.shape(x)[0]\n",
    "    y_size = K.shape(y)[0]\n",
    "    dim = K.shape(x)[1]\n",
    "    tiled_x = K.tile(K.reshape(x, [x_size, 1, dim]), [1, y_size, 1])\n",
    "    tiled_y = K.tile(K.reshape(y, [1, y_size, dim]), [x_size, 1, 1])\n",
    "    return K.exp(-K.mean(K.square(tiled_x - tiled_y), axis=2) / K.cast(dim, 'float32'))\n",
    "\n",
    "def compute_mmd(x, y):\n",
    "    x_kernel = compute_kernel(x, x)\n",
    "    y_kernel = compute_kernel(y, y)\n",
    "    xy_kernel = compute_kernel(x, y)\n",
    "    return K.mean(x_kernel) + K.mean(y_kernel) - 2 * K.mean(xy_kernel)\n",
    "\n",
    "array1 = np.array([[2.1],[1.2]])\n",
    "array2 = np.array([[2.1],[1.1]])\n",
    "s = compute_mmd(array1,array2)"
   ]
  },
  {
   "cell_type": "markdown",
   "metadata": {},
   "source": [
    "Autocorrelation"
   ]
  },
  {
   "cell_type": "code",
   "execution_count": 4,
   "metadata": {},
   "outputs": [
    {
     "data": {
      "text/plain": [
       "array([0, 1, 2, 3, 4])"
      ]
     },
     "execution_count": 4,
     "metadata": {},
     "output_type": "execute_result"
    }
   ],
   "source": [
    "np.arange(5, 10)\n",
    "np.arange(5)"
   ]
  },
  {
   "cell_type": "code",
   "execution_count": 2,
   "metadata": {},
   "outputs": [
    {
     "name": "stdout",
     "output_type": "stream",
     "text": [
      "6405\n",
      "[6403, 6404, 6405]\n"
     ]
    }
   ],
   "source": [
    "\n",
    "idx = np.random.randint(0, 10000)\n",
    "print(idx)\n",
    "days = list(range(idx-2,idx+1))\n",
    "print(days)"
   ]
  },
  {
   "cell_type": "code",
   "execution_count": 5,
   "metadata": {},
   "outputs": [
    {
     "name": "stdout",
     "output_type": "stream",
     "text": [
      "[[ 1  2  3  4  5  6]\n",
      " [10 20 30 40 50 60]]\n"
     ]
    }
   ],
   "source": [
    "list_a = [[1,2,3],[10,20,30]]\n",
    "list_b = [[4,5,6,],[40,50,60]]\n",
    "merged = np.column_stack([list_a,list_b])\n",
    "print(merged)"
   ]
  },
  {
   "cell_type": "code",
   "execution_count": 6,
   "metadata": {},
   "outputs": [
    {
     "name": "stdout",
     "output_type": "stream",
     "text": [
      "[ 1  2  3  4  5  6 10 20 30 40 50 60]\n"
     ]
    }
   ],
   "source": [
    "noise = np.concatenate(merged)\n",
    "print(noise)"
   ]
  },
  {
   "cell_type": "code",
   "execution_count": 8,
   "metadata": {},
   "outputs": [
    {
     "name": "stdout",
     "output_type": "stream",
     "text": [
      "[1, 2, 3]\n"
     ]
    }
   ],
   "source": [
    "list = [1,2,3,4]\n",
    "print(list[:-1])"
   ]
  }
 ],
 "metadata": {
  "interpreter": {
   "hash": "6634a6ef393c667e54c22054a3771f7fbfd71045bcb04c31d5886c12c4a77a96"
  },
  "kernelspec": {
   "display_name": "Python 3.8.3 ('base')",
   "language": "python",
   "name": "python3"
  },
  "language_info": {
   "codemirror_mode": {
    "name": "ipython",
    "version": 3
   },
   "file_extension": ".py",
   "mimetype": "text/x-python",
   "name": "python",
   "nbconvert_exporter": "python",
   "pygments_lexer": "ipython3",
   "version": "3.8.3"
  },
  "orig_nbformat": 4
 },
 "nbformat": 4,
 "nbformat_minor": 2
}
